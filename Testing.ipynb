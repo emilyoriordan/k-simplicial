{
 "cells": [
  {
   "cell_type": "code",
   "execution_count": 10,
   "metadata": {
    "collapsed": true
   },
   "outputs": [],
   "source": [
    "import numpy as np\n",
    "import itertools as it\n",
    "import efunction\n",
    "import qfunction\n",
    "import sfunction\n",
    "import distance"
   ]
  },
  {
   "cell_type": "code",
   "execution_count": 2,
   "metadata": {
    "collapsed": true
   },
   "outputs": [],
   "source": [
    "covariance = np.identity(4)\n",
    "k = 2\n",
    "eigenvalues = np.linalg.eigvals(covariance)"
   ]
  },
  {
   "cell_type": "code",
   "execution_count": 3,
   "metadata": {},
   "outputs": [
    {
     "data": {
      "text/plain": [
       "6.0"
      ]
     },
     "execution_count": 3,
     "metadata": {},
     "output_type": "execute_result"
    }
   ],
   "source": [
    "efunction.elementarysymmetric(k,eigenvalues)"
   ]
  },
  {
   "cell_type": "code",
   "execution_count": 4,
   "metadata": {
    "collapsed": true
   },
   "outputs": [],
   "source": [
    "# %load efunction.py\n",
    "\"\"\"\n",
    "Function to produce the elementary symmetric function as defined in the \n",
    "'Simplicial variances, potentials and Mahalanobis distances' paper. \n",
    "\n",
    "Needed to produce the S function in the k-Simplicial distance. \n",
    "\n",
    "\"\"\"\n",
    "def elementarysymmetric(k,eigenvalues):\n",
    "\n",
    "    \"\"\"\n",
    "    Find the elementary symmetric function for a list of values and a given k.\n",
    "\n",
    "    Input: (see paper for notation)\n",
    "        - k, the degree of the symmetric function\n",
    "        - eigenvalues, the set of eigenvalues for the covariance matrix\n",
    "\n",
    "    Output:\n",
    "        - evalue, the elementary symmetric function value\n",
    "    \"\"\"\n",
    "    if k == 0:\n",
    "        evalue = 1\n",
    "    else:\n",
    "        subscripts = []\n",
    "        for subscript, _ in enumerate(eigenvalues):\n",
    "            subscripts.append(subscript)\n",
    "\n",
    "        combinationsofsubscripts = list(it.combinations(subscripts,k))\n",
    "        \n",
    "        product = 1 \n",
    "        evalue = 0\n",
    "        for combination in combinationsofsubscripts:\n",
    "            for subscript in range(k):\n",
    "                product = product * eigenvalues[combination[subscript]]\n",
    "            evalue += product\n",
    "            product = 1 \n",
    "\n",
    "    return evalue \n",
    "\n"
   ]
  },
  {
   "cell_type": "code",
   "execution_count": 5,
   "metadata": {
    "collapsed": true
   },
   "outputs": [],
   "source": [
    "# %load qfunction.py\n",
    "\"\"\"\n",
    "Function to produce the q function as defined in the \n",
    "'Simplicial variances, potentials and Mahalanobis distances' paper. \n",
    "See chapter 3.2 for definition.\n",
    "\n",
    "Needed to produce the S function in the k-Simplicial distance. \n",
    "\"\"\"\n",
    "\n",
    "def q(k, covariance, eigenvalues):\n",
    "    \"\"\"\n",
    "    Find the q value as defined in chapter 3.2. \n",
    "\n",
    "    Input: (see paper for notation)\n",
    "        - k, the value chosen for the k-Simplicial distance\n",
    "        - covariance, the covariance matrix\n",
    "        - eigenvalues, the eigenvalues of the covariance matrix\n",
    "\n",
    "    Output: \n",
    "        - qvalue\n",
    "    \"\"\"\n",
    "    qvalue = 0\n",
    "\n",
    "    for i in range(k):\n",
    "        product = ((-1)**(i))*elementarysymmetric(k-i-1, eigenvalues)*(numpy.linalg.matrix_power(covariance,i))\n",
    "        qvalue = qvalue + product\n",
    "    \n",
    "    return qvalue"
   ]
  },
  {
   "cell_type": "code",
   "execution_count": 6,
   "metadata": {
    "collapsed": true
   },
   "outputs": [],
   "source": [
    "# %load sfunction.py\n",
    "\"\"\"\n",
    "Function to produce the S function as defined in the \n",
    "'Simplicial variances, potentials and Mahalanobis distances' paper. \n",
    "See chapter 3.2 for definition.\n",
    "\n",
    "S(k, covariance) = \n",
    "q(k, covariance, eigenvalues)/elementarysymmetric(k,eigenvalues)\n",
    "\n",
    "Needed to produce k-Simplicial distance. \n",
    "distance = (x1 - x2)^T * S * (x1- x2)\n",
    "\"\"\"\n",
    "def s(k, covariance):\n",
    "    \n",
    "    \"\"\"\n",
    "    Function to find the S matrix as defined in chapter 3.2.\n",
    "\n",
    "    Input:\n",
    "        - k, the value chosen for the k-Simplicial distance\n",
    "        - covariance, the covariance matrix\n",
    "\n",
    "    Output: \n",
    "        - smatrix, the S matrix\n",
    "    \"\"\"\n",
    "\n",
    "    eigenvalues = numpy.linalg.eigvals(covariance)\n",
    "\n",
    "    smatrix = q(k, covariance, eigenvalues)/elementarysymmetric(k,eigenvalues)\n",
    "\n",
    "    return smatrix"
   ]
  },
  {
   "cell_type": "code",
   "execution_count": 12,
   "metadata": {
    "collapsed": true
   },
   "outputs": [],
   "source": [
    "# %load distance.py\n",
    "\"\"\"\n",
    "Function to find distances in the form\n",
    "\n",
    "(x1 - x2)^T * MATRIX * (x1 - x2)\n",
    "\n",
    "\"\"\"\n",
    "\n",
    "def distance(x1, x2, matrix):\n",
    "\n",
    "    A = np.matmul(np.matmul(np.transpose(x1 - x2),matrix),(x1-x2))\n",
    "\n",
    "    return A"
   ]
  },
  {
   "cell_type": "code",
   "execution_count": 7,
   "metadata": {
    "collapsed": true
   },
   "outputs": [],
   "source": [
    "covariance = np.identity(4)\n",
    "k = 2"
   ]
  },
  {
   "cell_type": "code",
   "execution_count": 8,
   "metadata": {
    "scrolled": true
   },
   "outputs": [],
   "source": [
    "smatrix = sfunction.s(2,covariance)"
   ]
  },
  {
   "cell_type": "code",
   "execution_count": 9,
   "metadata": {},
   "outputs": [
    {
     "name": "stdout",
     "output_type": "stream",
     "text": [
      "[[ 0.5  0.   0.   0. ]\n",
      " [ 0.   0.5  0.   0. ]\n",
      " [ 0.   0.   0.5  0. ]\n",
      " [ 0.   0.   0.   0.5]]\n"
     ]
    }
   ],
   "source": [
    "print(smatrix)"
   ]
  },
  {
   "cell_type": "code",
   "execution_count": 13,
   "metadata": {},
   "outputs": [
    {
     "ename": "TypeError",
     "evalue": "unsupported operand type(s) for -: 'list' and 'list'",
     "output_type": "error",
     "traceback": [
      "\u001b[1;31m---------------------------------------------------------------------------\u001b[0m",
      "\u001b[1;31mTypeError\u001b[0m                                 Traceback (most recent call last)",
      "\u001b[1;32m<ipython-input-13-eb5df4ef6e6f>\u001b[0m in \u001b[0;36m<module>\u001b[1;34m()\u001b[0m\n\u001b[0;32m      2\u001b[0m \u001b[0my\u001b[0m \u001b[1;33m=\u001b[0m \u001b[1;33m[\u001b[0m\u001b[1;36m2\u001b[0m\u001b[1;33m,\u001b[0m \u001b[1;36m3\u001b[0m\u001b[1;33m,\u001b[0m \u001b[1;36m4\u001b[0m\u001b[1;33m,\u001b[0m \u001b[1;36m1\u001b[0m\u001b[1;33m]\u001b[0m\u001b[1;33m\u001b[0m\u001b[0m\n\u001b[0;32m      3\u001b[0m \u001b[1;33m\u001b[0m\u001b[0m\n\u001b[1;32m----> 4\u001b[1;33m \u001b[0mprint\u001b[0m\u001b[1;33m(\u001b[0m\u001b[0mdistance\u001b[0m\u001b[1;33m(\u001b[0m\u001b[0mx\u001b[0m\u001b[1;33m,\u001b[0m \u001b[0my\u001b[0m\u001b[1;33m,\u001b[0m \u001b[0msmatrix\u001b[0m\u001b[1;33m)\u001b[0m\u001b[1;33m)\u001b[0m\u001b[1;33m\u001b[0m\u001b[0m\n\u001b[0m",
      "\u001b[1;32m<ipython-input-12-01895e3b46d7>\u001b[0m in \u001b[0;36mdistance\u001b[1;34m(x1, x2, matrix)\u001b[0m\n\u001b[0;32m      9\u001b[0m \u001b[1;32mdef\u001b[0m \u001b[0mdistance\u001b[0m\u001b[1;33m(\u001b[0m\u001b[0mx1\u001b[0m\u001b[1;33m,\u001b[0m \u001b[0mx2\u001b[0m\u001b[1;33m,\u001b[0m \u001b[0mmatrix\u001b[0m\u001b[1;33m)\u001b[0m\u001b[1;33m:\u001b[0m\u001b[1;33m\u001b[0m\u001b[0m\n\u001b[0;32m     10\u001b[0m \u001b[1;33m\u001b[0m\u001b[0m\n\u001b[1;32m---> 11\u001b[1;33m     \u001b[0mA\u001b[0m \u001b[1;33m=\u001b[0m \u001b[0mnp\u001b[0m\u001b[1;33m.\u001b[0m\u001b[0mmatmul\u001b[0m\u001b[1;33m(\u001b[0m\u001b[0mnp\u001b[0m\u001b[1;33m.\u001b[0m\u001b[0mmatmul\u001b[0m\u001b[1;33m(\u001b[0m\u001b[0mnp\u001b[0m\u001b[1;33m.\u001b[0m\u001b[0mtranspose\u001b[0m\u001b[1;33m(\u001b[0m\u001b[0mx1\u001b[0m \u001b[1;33m-\u001b[0m \u001b[0mx2\u001b[0m\u001b[1;33m)\u001b[0m\u001b[1;33m,\u001b[0m\u001b[0mmatrix\u001b[0m\u001b[1;33m)\u001b[0m\u001b[1;33m,\u001b[0m\u001b[1;33m(\u001b[0m\u001b[0mx1\u001b[0m\u001b[1;33m-\u001b[0m\u001b[0mx2\u001b[0m\u001b[1;33m)\u001b[0m\u001b[1;33m)\u001b[0m\u001b[1;33m\u001b[0m\u001b[0m\n\u001b[0m\u001b[0;32m     12\u001b[0m \u001b[1;33m\u001b[0m\u001b[0m\n\u001b[0;32m     13\u001b[0m     \u001b[1;32mreturn\u001b[0m \u001b[0mA\u001b[0m\u001b[1;33m\u001b[0m\u001b[0m\n",
      "\u001b[1;31mTypeError\u001b[0m: unsupported operand type(s) for -: 'list' and 'list'"
     ]
    }
   ],
   "source": [
    "x = [1, 2, 1, 1]\n",
    "y = [2, 3, 4, 1]\n",
    "\n",
    "print(distance(x, y, smatrix))"
   ]
  },
  {
   "cell_type": "code",
   "execution_count": 16,
   "metadata": {},
   "outputs": [
    {
     "ename": "TypeError",
     "evalue": "unsupported operand type(s) for -: 'list' and 'list'",
     "output_type": "error",
     "traceback": [
      "\u001b[1;31m---------------------------------------------------------------------------\u001b[0m",
      "\u001b[1;31mTypeError\u001b[0m                                 Traceback (most recent call last)",
      "\u001b[1;32m<ipython-input-16-c70036578fbb>\u001b[0m in \u001b[0;36m<module>\u001b[1;34m()\u001b[0m\n\u001b[1;32m----> 1\u001b[1;33m \u001b[0mA\u001b[0m \u001b[1;33m=\u001b[0m \u001b[0mnp\u001b[0m\u001b[1;33m.\u001b[0m\u001b[0mmatmul\u001b[0m\u001b[1;33m(\u001b[0m\u001b[0mnp\u001b[0m\u001b[1;33m.\u001b[0m\u001b[0mmatmul\u001b[0m\u001b[1;33m(\u001b[0m\u001b[0mnp\u001b[0m\u001b[1;33m.\u001b[0m\u001b[0mtranspose\u001b[0m\u001b[1;33m(\u001b[0m\u001b[0mnp\u001b[0m\u001b[1;33m.\u001b[0m\u001b[0marray\u001b[0m\u001b[1;33m(\u001b[0m\u001b[0mx\u001b[0m \u001b[1;33m-\u001b[0m \u001b[0my\u001b[0m\u001b[1;33m)\u001b[0m\u001b[1;33m)\u001b[0m\u001b[1;33m,\u001b[0m\u001b[0mmatrix\u001b[0m\u001b[1;33m)\u001b[0m\u001b[1;33m,\u001b[0m\u001b[0mnp\u001b[0m\u001b[1;33m.\u001b[0m\u001b[0marray\u001b[0m\u001b[1;33m(\u001b[0m\u001b[0mx\u001b[0m\u001b[1;33m-\u001b[0m\u001b[0my\u001b[0m\u001b[1;33m)\u001b[0m\u001b[1;33m)\u001b[0m\u001b[1;33m\u001b[0m\u001b[0m\n\u001b[0m",
      "\u001b[1;31mTypeError\u001b[0m: unsupported operand type(s) for -: 'list' and 'list'"
     ]
    }
   ],
   "source": [
    "A = np.matmul(np.matmul(np.transpose(np.array(x - y)),matrix),np.array(x-y))"
   ]
  }
 ],
 "metadata": {
  "kernelspec": {
   "display_name": "Python 3",
   "language": "python",
   "name": "python3"
  },
  "language_info": {
   "codemirror_mode": {
    "name": "ipython",
    "version": 3
   },
   "file_extension": ".py",
   "mimetype": "text/x-python",
   "name": "python",
   "nbconvert_exporter": "python",
   "pygments_lexer": "ipython3",
   "version": "3.6.2"
  }
 },
 "nbformat": 4,
 "nbformat_minor": 2
}
